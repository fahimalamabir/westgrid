{
 "cells": [
  {
   "cell_type": "markdown",
   "metadata": {},
   "source": [
    "\n",
    "# Deep learning with PyTorch \n",
    "## West Grid Autumn School Day 3\n",
    "\n",
    "#### Fahim Alam"
   ]
  },
  {
   "cell_type": "markdown",
   "metadata": {},
   "source": [
    "Artificial intelligence is a vast field: any system mimicking animal intelligence falls in its scope.\n",
    "\n",
    "Machine learning (ML) is a subfield of artificial intelligence that can be defined as computer programs whose performance at a task improves with experience.\n",
    "\n",
    "Since this experience comes in the form of data, ML consists of feeding vast amounts of data to algorithms to strengthen pathways.\n"
   ]
  },
  {
   "cell_type": "markdown",
   "metadata": {},
   "source": [
    "# Types of learning\n",
    "There are now more types of learning than those presented here. But these initial types are interesting because they will already be familiar to you.\n",
    "\n",
    "## Supervised learning\n",
    "You have been doing supervised machine learning for years without looking at it in the framework of machine learning:\n",
    "\n",
    "Regression is a form of supervised learning with continuous outputs\n",
    "\n",
    "Classification is supervised learning with discrete outputs\n",
    "\n",
    "Supervised learning uses training data in the form of example input/output $(x_i,y_i)$ pairs.\n",
    "<img src =a.png>\n",
    "\n",
    "## Unsupervised learning\n",
    "Here too, you are familiar with some forms of unsupervised learning that you weren't thinking about in such terms:\n",
    "\n",
    "Clustering, social network analysis, market segmentation, PCA … are all forms of unsupervised learning.\n",
    "\n",
    "Unsupervised learning uses unlabelled data (training set of $x_i$).\n",
    "\n",
    "#### Goal:\n",
    "\n",
    "Find structure within the data.\n",
    "\n",
    "\n",
    "# Artificial neural networks\n",
    "Artificial neural networks (ANN) are one of the machine learning models (other models include decision trees or Bayesian networks). Their potential and popularity has truly exploded in recent years and this is what we will focus on in this course. Artificial neural networks are a series of layered units mimicking the concept of biological neurons: inputs are received by every unit of a layer, computed, then transmitted to units of the next layer. In the process of learning, experience strengthens some connections between units and weakens others.\n",
    "\n",
    "In biological networks, the information consists of action potentials (neuron membrane rapid depolarizations) propagating through the network. In artificial ones, the information consists of tensors (multidimensional arrays) of weights and biases: each unit passes a weighted sum of an input tensor with an additional—possibly weighted—bias through an activation function before passing on the output tensor to the next layer of units.\n",
    "Note:   the bias allows to shift the output of the activation function to the right or to the left (i.e. it creates an offset).\n",
    "\n",
    "\n",
    "#### Schematic of a biological neuron:\n",
    "<img src = /home/fahim/Desktop/westgrid /autumn 2020/images/\n",
    "Neuron.svg>\n",
    "\n",
    "#### Schematic of an artificial neuron:\n",
    "<img src = artificial_neuron_nw.png>"
   ]
  },
  {
   "cell_type": "markdown",
   "metadata": {},
   "source": [
    "While biological neurons are connected in extremely intricate patterns, artificial ones follow a layered structure. Another difference in complexity is in the number of units: the human brain has 65–90 billion neurons. ANN have much fewer units."
   ]
  },
  {
   "cell_type": "markdown",
   "metadata": {},
   "source": [
    "#### Learning:\n",
    "\n",
    "The process of learning in biological NN happens through neuron death or growth and through the creation or loss of synaptic connections between neurons. In ANN, learning happens through optimization algorithms such as gradient descent which minimize cross entropy loss functions by adjusting the weights and biases connecting each layer of neurons over many iterations (cross entropy is the difference between the predicted and the real distributions)."
   ]
  },
  {
   "cell_type": "markdown",
   "metadata": {},
   "source": [
    "There are several gradient descent methods:\n",
    "\n",
    "**Batch gradient descent** uses all examples in each iteration and is thus slow for large datasets (the parameters are adjusted only after all the samples have been processed).\n",
    "\n",
    "**Stochastic gradient descent** uses one example in each iteration. It is thus much faster than batch gradient descent (the parameters are adjusted after each example). But it does not allow any vectorization.\n",
    "\n",
    "**Mini-batch gradient descent** is an intermediate approach: it uses mini-batch sized examples in each iteration. This allows a vectorized approach (and hence parallelization).\n",
    "The Adam optimization algorithm is a popular variation of mini-batch gradient descent."
   ]
  },
  {
   "cell_type": "markdown",
   "metadata": {},
   "source": [
    "## Types of ANN\n",
    "\n",
    "#### Fully connected neural networks\n",
    "\n",
    "<img src = Colored_neural_network.svg>\n",
    "\n",
    "Each neuron receives inputs from every neuron of the previous layer and passes its output to every neuron of the next layer.\n",
    "####  Convolutional neural networks\n",
    "<img src = cnn_nw.png>\n",
    "Convolutional neural networks (CNN) are used for spatially structured data (e.g. in image recognition).\n",
    "\n",
    "Images have huge input sizes and would require a very large number of neurons in a fully connected neural net. In convolutional layers, neurons receive input from a subarea (called local receptive field) of the previous layer. This greatly reduces the number of parameters.\n",
    "\n",
    "Optionally, pooling (combining the outputs of neurons in a subarea) reduces the data dimensions. The stride then dictates how the subarea is moved across the image. Max-pooling is one of the forms of pooling which uses the maximum for each subarea.\n",
    "#### Recurrent neural networks\n",
    "<img src = images/Recurrent_neural_network_unfold.svg>\n",
    "\n",
    "Recurrent neural networks (RNN) such as Long Short-Term Memory (LSTM) are used for chain structured data (e.g. in speech recognition).\n",
    "\n",
    "They are not feedforward networks (i.e. networks for which the information moves only in the forward direction without any loop).\n",
    "\n",
    "#### Deep neural networks\n",
    "The first layer of a neural net is the input layer. The last one is the output layer. All the layers in-between are called hidden layers. Shallow neural networks have only one hidden layer and deep networks have two or more hidden layers. When an ANN is deep, we talk about Deep Learning (DL)."
   ]
  },
  {
   "cell_type": "markdown",
   "metadata": {},
   "source": [
    "# Which framework to choose?\n",
    "With the growing popularity of machine learning, many frameworks have appeared in various languages. One of the questions you might be facing is: **which tool should I choose?**\n",
    "\n",
    "There are a several points you might want to consider in making that choice. For instance, what tools do people use in your field? (what tools are used in the papers you read?) What tools are your colleagues and collaborators using?\n",
    "\n",
    "Looking a bit further into the future, whether you are considering staying in academia or working in industry could also influence your choice. If the former, paying attention to the literature is key, if the latter, it may be good to have a look at the trends in job postings.\n",
    "\n",
    "Some frameworks offer collections of already-made toolkits. They are thus easy to start using and do not require a lot of programming experience. On the other hand, they may feel like black boxes and they are not very customizable. Scikit-learn and Keras—usually run on top of TensorFlow—fall in that category. Lower level tools allow you full control and tuning of your models, but can come with a steeper learning curve.\n",
    "\n",
    "This course will focus on PyTorch, developed by Facebook’s AI Research lab, because of its exploding popularity in research, its ease of use while being extremely customizable, because it is really written for Python (so its syntax is easy to understand), and because it is free and open source.\n",
    "\n",
    "Several libraries are now adding a higher level on top of PyTorch: fastai, PyTorch Lightning, and PyTorch Ignite.\n",
    "\n",
    "The most popular machine learning library currently remains TensorFlow, developed by the Google Brain Team. While it has a Python API, its syntax can be more obscure.\n",
    "\n",
    "Julia’s syntax is well suited for the implementation of mathematical models, GPU kernels can be written directly in Julia, and Julia’s speed is attractive in computation hungry fields. So Julia has also seen the development of many ML packages such as Flux or Knet. The user base of Julia remains quite small however.\n",
    "\n",
    "My main motivation in writing this section however is to raise awareness about one question that should really be considered in the question of which tool to choose: whether the tool you decide to learn and use in your research is open source or proprietary."
   ]
  },
  {
   "cell_type": "markdown",
   "metadata": {},
   "source": [
    "After installing Pytorch, we see if it works or not."
   ]
  },
  {
   "cell_type": "code",
   "execution_count": 1,
   "metadata": {},
   "outputs": [
    {
     "name": "stdout",
     "output_type": "stream",
     "text": [
      "tensor([[0., 0., 0., 0.],\n",
      "        [0., 0., 0., 0.],\n",
      "        [0., 0., 0., 0.]])\n"
     ]
    }
   ],
   "source": [
    "import torch\n",
    "\n",
    "print(torch.zeros(3, 4))"
   ]
  },
  {
   "cell_type": "markdown",
   "metadata": {},
   "source": [
    "3Blue1Brown by Grant Sanderson has a series of 4 videos on neural networks which is easy to watch, fun, and does an excellent job at introducing the functioning of a simple neural network.\n",
    "\n",
    "For this lesson, you will watch the first of these videos which explains what NN are."
   ]
  },
  {
   "cell_type": "code",
   "execution_count": 2,
   "metadata": {
    "scrolled": true
   },
   "outputs": [
    {
     "data": {
      "text/html": [
       "<iframe width=\"810\" height=\"456\" src=\"https://www.youtube.com/embed/aircAruvnKk\" frameborder=\"0\" allow=\"accelerometer; autoplay; clipboard-write; encrypted-media; gyroscope; picture-in-picture\" allowfullscreen></iframe>"
      ],
      "text/plain": [
       "<IPython.core.display.HTML object>"
      ]
     },
     "execution_count": 2,
     "metadata": {},
     "output_type": "execute_result"
    }
   ],
   "source": [
    "import warnings\n",
    "warnings.filterwarnings(\"ignore\")\n",
    "from IPython.display import HTML\n",
    "HTML('<iframe width=\"810\" height=\"456\" src=\"https://www.youtube.com/embed/aircAruvnKk\" frameborder=\"0\" allow=\"accelerometer; autoplay; clipboard-write; encrypted-media; gyroscope; picture-in-picture\" allowfullscreen></iframe>')\n"
   ]
  },
  {
   "cell_type": "markdown",
   "metadata": {},
   "source": [
    "In this lesson, you will watch the second video on NN by 3Blue1Brown which explains how neural networks learn."
   ]
  },
  {
   "cell_type": "code",
   "execution_count": 3,
   "metadata": {},
   "outputs": [
    {
     "data": {
      "text/html": [
       "<iframe width=\"810\" height=\"456\" src=\"https://www.youtube.com/embed/IHZwWFHWa-w\" frameborder=\"0\" allow=\"accelerometer; autoplay; clipboard-write; encrypted-media; gyroscope; picture-in-picture\" allowfullscreen></iframe>\n"
      ],
      "text/plain": [
       "<IPython.core.display.HTML object>"
      ]
     },
     "metadata": {},
     "output_type": "display_data"
    }
   ],
   "source": [
    "%%HTML\n",
    "<iframe width=\"810\" height=\"456\" src=\"https://www.youtube.com/embed/IHZwWFHWa-w\" frameborder=\"0\" allow=\"accelerometer; autoplay; clipboard-write; encrypted-media; gyroscope; picture-in-picture\" allowfullscreen></iframe>"
   ]
  },
  {
   "cell_type": "markdown",
   "metadata": {},
   "source": [
    "##### Dimensions and sizes\n",
    "PyTorch's tensors are homogeneous multidimensional arrays.\n",
    "\n",
    "You can create them with a variety of methods such as:\n",
    "\n",
    "- torch.rand, for a tensor filled with random numbers from a uniform distribution on \n",
    "\n",
    "- torch.randn, for a tensor filled with numbers from the standard normal distribution\n",
    "\n",
    "-  torch.empty, for an uninitialized tensor\n",
    "\n",
    "- torch.zeros, for a tensor filled with \n",
    "\n",
    "- torch.ones, for a tensor filled with \n",
    "\n",
    "Each element you pass to these methods represents the length of one dimension. Consequently, the number of elements determines the number of dimensions of the tensor."
   ]
  },
  {
   "cell_type": "code",
   "execution_count": 4,
   "metadata": {},
   "outputs": [
    {
     "name": "stdout",
     "output_type": "stream",
     "text": [
      "tensor([0.2003])\n"
     ]
    }
   ],
   "source": [
    "print(torch.rand(1))"
   ]
  },
  {
   "cell_type": "markdown",
   "metadata": {},
   "source": [
    "This is a one-dimensional tensor. Its length in the unique dimesion is 1. So it is a tensor with a single element."
   ]
  },
  {
   "cell_type": "code",
   "execution_count": 5,
   "metadata": {},
   "outputs": [
    {
     "name": "stdout",
     "output_type": "stream",
     "text": [
      "0.994086503982544\n"
     ]
    }
   ],
   "source": [
    "print(torch.rand(1, 1).item())"
   ]
  },
  {
   "cell_type": "markdown",
   "metadata": {},
   "source": [
    "A two-dimensional tensor. Its length in one dimesion is 1 and its length in the other dimesion is also 1. So this is also a tensor with a single element."
   ]
  },
  {
   "cell_type": "code",
   "execution_count": 6,
   "metadata": {},
   "outputs": [
    {
     "name": "stdout",
     "output_type": "stream",
     "text": [
      "tensor([[[0.5098]]])\n"
     ]
    }
   ],
   "source": [
    "print(torch.rand(1, 1, 1)) # A three-dimensional tensor with a single element."
   ]
  },
  {
   "cell_type": "code",
   "execution_count": 7,
   "metadata": {},
   "outputs": [
    {
     "name": "stdout",
     "output_type": "stream",
     "text": [
      "tensor([[0.3154],\n",
      "        [0.6341],\n",
      "        [0.4182]])\n"
     ]
    }
   ],
   "source": [
    "print(torch.rand(3, 1))"
   ]
  },
  {
   "cell_type": "markdown",
   "metadata": {},
   "source": [
    "A two-dimensional tensor. Its length in one dimension is 3 and in the other, 1."
   ]
  },
  {
   "cell_type": "code",
   "execution_count": 8,
   "metadata": {},
   "outputs": [
    {
     "name": "stdout",
     "output_type": "stream",
     "text": [
      "tensor([[0.1659, 0.7414, 0.2822, 0.8160, 0.3921, 0.5856],\n",
      "        [0.7283, 0.5794, 0.3134, 0.7323, 0.3316, 0.1024]])\n"
     ]
    }
   ],
   "source": [
    "print(torch.rand(2, 6))"
   ]
  },
  {
   "cell_type": "markdown",
   "metadata": {},
   "source": [
    "A two-dimensional tensor. Its length in one dimension is 2 and length in each dimension is 6."
   ]
  },
  {
   "cell_type": "code",
   "execution_count": 9,
   "metadata": {},
   "outputs": [
    {
     "name": "stdout",
     "output_type": "stream",
     "text": [
      "tensor([[[0.0469, 0.3135, 0.6488, 0.0380, 0.3562]],\n",
      "\n",
      "        [[0.2170, 0.3603, 0.8280, 0.7659, 0.5363]]])\n"
     ]
    }
   ],
   "source": [
    "print(torch.rand(2, 1, 5)) # A three-dimensional tensor. Its length in one dimension is 2, in a second dimension it is 1, and in the third dimension it is 5.\n"
   ]
  },
  {
   "cell_type": "markdown",
   "metadata": {},
   "source": [
    "## Getting information\n",
    "You can get the dimension of a tensor with the method dim:"
   ]
  },
  {
   "cell_type": "code",
   "execution_count": 10,
   "metadata": {},
   "outputs": [
    {
     "name": "stdout",
     "output_type": "stream",
     "text": [
      "5\n"
     ]
    }
   ],
   "source": [
    "print(torch.rand(3, 5, 4, 2, 1).dim())"
   ]
  },
  {
   "cell_type": "markdown",
   "metadata": {},
   "source": [
    "And its size with the method size:"
   ]
  },
  {
   "cell_type": "code",
   "execution_count": 11,
   "metadata": {},
   "outputs": [
    {
     "name": "stdout",
     "output_type": "stream",
     "text": [
      "torch.Size([3, 5, 4, 2, 1])\n"
     ]
    }
   ],
   "source": [
    "print(torch.rand(3, 5, 4, 2, 1).size())"
   ]
  },
  {
   "cell_type": "markdown",
   "metadata": {},
   "source": [
    "## Creating new tensors of the size of existing ones\n",
    "All these methods to create tensor can be appended with _like to create new tensors of the same size:"
   ]
  },
  {
   "cell_type": "code",
   "execution_count": 12,
   "metadata": {},
   "outputs": [
    {
     "name": "stdout",
     "output_type": "stream",
     "text": [
      "tensor([[0.3431, 0.6303, 0.2627, 0.0932],\n",
      "        [0.7206, 0.8249, 0.8327, 0.8279]])\n"
     ]
    }
   ],
   "source": [
    "x = torch.rand(2, 4)\n",
    "print(x)"
   ]
  },
  {
   "cell_type": "code",
   "execution_count": 13,
   "metadata": {},
   "outputs": [
    {
     "name": "stdout",
     "output_type": "stream",
     "text": [
      "tensor([[0., 0., 0., 0.],\n",
      "        [0., 0., 0., 0.]])\n"
     ]
    }
   ],
   "source": [
    "y = torch.zeros_like(x)\n",
    "print(y)"
   ]
  },
  {
   "cell_type": "code",
   "execution_count": 14,
   "metadata": {},
   "outputs": [
    {
     "data": {
      "text/plain": [
       "True"
      ]
     },
     "execution_count": 14,
     "metadata": {},
     "output_type": "execute_result"
    }
   ],
   "source": [
    "x.size() == y.size()"
   ]
  },
  {
   "cell_type": "markdown",
   "metadata": {},
   "source": [
    "#### Operations\n",
    "Let's take the addition as an example:"
   ]
  },
  {
   "cell_type": "code",
   "execution_count": 15,
   "metadata": {},
   "outputs": [
    {
     "name": "stdout",
     "output_type": "stream",
     "text": [
      "tensor([1.8665, 0.7360])\n"
     ]
    }
   ],
   "source": [
    "x = torch.rand(2)\n",
    "y = torch.rand(2)\n",
    "\n",
    "print(x+y)"
   ]
  },
  {
   "cell_type": "code",
   "execution_count": 16,
   "metadata": {},
   "outputs": [
    {
     "name": "stdout",
     "output_type": "stream",
     "text": [
      "tensor([1.8665, 0.7360])\n"
     ]
    }
   ],
   "source": [
    "print(torch.add(x, y))"
   ]
  },
  {
   "cell_type": "markdown",
   "metadata": {},
   "source": [
    "#### In-place operations\n",
    "In in-place operations, operators are post-fixed with _:"
   ]
  },
  {
   "cell_type": "code",
   "execution_count": 17,
   "metadata": {},
   "outputs": [
    {
     "name": "stdout",
     "output_type": "stream",
     "text": [
      "tensor([1.8665, 0.7360])\n"
     ]
    }
   ],
   "source": [
    "x.add_(y)\n",
    "print(x)"
   ]
  },
  {
   "cell_type": "markdown",
   "metadata": {},
   "source": [
    "#### Data type\n",
    "PyTorch has a dtype class similar to that of NumPy.\n",
    "\n",
    "You can assign a data type to a tensor when you create it:"
   ]
  },
  {
   "cell_type": "code",
   "execution_count": 18,
   "metadata": {},
   "outputs": [],
   "source": [
    "x = torch.rand(2, 4, dtype=torch.float64)"
   ]
  },
  {
   "cell_type": "code",
   "execution_count": 19,
   "metadata": {},
   "outputs": [
    {
     "data": {
      "text/plain": [
       "tensor([[0.5846, 0.0548, 0.7865, 0.6589],\n",
       "        [0.3456, 0.6740, 0.9356, 0.1574]], dtype=torch.float64)"
      ]
     },
     "execution_count": 19,
     "metadata": {},
     "output_type": "execute_result"
    }
   ],
   "source": [
    "x"
   ]
  },
  {
   "cell_type": "code",
   "execution_count": 20,
   "metadata": {},
   "outputs": [
    {
     "name": "stdout",
     "output_type": "stream",
     "text": [
      "torch.float64\n"
     ]
    }
   ],
   "source": [
    "print(x.dtype)"
   ]
  },
  {
   "cell_type": "markdown",
   "metadata": {},
   "source": [
    "#### Indexing\n",
    "Indexing works as it does in NumPy"
   ]
  },
  {
   "cell_type": "code",
   "execution_count": 21,
   "metadata": {},
   "outputs": [
    {
     "name": "stdout",
     "output_type": "stream",
     "text": [
      "tensor([[0.7818, 0.3562, 0.9558, 0.1751],\n",
      "        [0.3561, 0.1879, 0.3825, 0.1997],\n",
      "        [0.4616, 0.6374, 0.8977, 0.2809],\n",
      "        [0.2761, 0.2793, 0.5255, 0.8367],\n",
      "        [0.7883, 0.5719, 0.6507, 0.3622]])\n",
      "tensor([0.9558, 0.3825, 0.8977, 0.5255, 0.6507])\n",
      "tensor([0.2761, 0.2793, 0.5255, 0.8367])\n",
      "tensor(0.2809)\n"
     ]
    }
   ],
   "source": [
    "x = torch.rand(5, 4)\n",
    "print(x)\n",
    "\n",
    "print(x[:, 2])\n",
    "print(x[3, :])\n",
    "print(x[2, 3])"
   ]
  },
  {
   "cell_type": "markdown",
   "metadata": {},
   "source": [
    "#### Reshaping\n",
    "You can change the shape and size of a tensor with the method view:\n",
    "\n",
    "Note: your new tensor needs to have the same number of elements as the old one!"
   ]
  },
  {
   "cell_type": "code",
   "execution_count": 22,
   "metadata": {},
   "outputs": [
    {
     "name": "stdout",
     "output_type": "stream",
     "text": [
      "tensor([[0.7818, 0.3562, 0.9558, 0.1751, 0.3561],\n",
      "        [0.1879, 0.3825, 0.1997, 0.4616, 0.6374],\n",
      "        [0.8977, 0.2809, 0.2761, 0.2793, 0.5255],\n",
      "        [0.8367, 0.7883, 0.5719, 0.6507, 0.3622]])\n",
      "tensor([[0.7818, 0.3562, 0.9558, 0.1751, 0.3561, 0.1879, 0.3825, 0.1997, 0.4616,\n",
      "         0.6374, 0.8977, 0.2809, 0.2761, 0.2793, 0.5255, 0.8367, 0.7883, 0.5719,\n",
      "         0.6507, 0.3622]])\n",
      "tensor([[0.7818],\n",
      "        [0.3562],\n",
      "        [0.9558],\n",
      "        [0.1751],\n",
      "        [0.3561],\n",
      "        [0.1879],\n",
      "        [0.3825],\n",
      "        [0.1997],\n",
      "        [0.4616],\n",
      "        [0.6374],\n",
      "        [0.8977],\n",
      "        [0.2809],\n",
      "        [0.2761],\n",
      "        [0.2793],\n",
      "        [0.5255],\n",
      "        [0.8367],\n",
      "        [0.7883],\n",
      "        [0.5719],\n",
      "        [0.6507],\n",
      "        [0.3622]])\n"
     ]
    }
   ],
   "source": [
    "print(x.view(4, 5))\n",
    "print(x.view(1, 20))\n",
    "print(x.view(20, 1))"
   ]
  },
  {
   "cell_type": "markdown",
   "metadata": {},
   "source": [
    "# The MNIST dataset\n",
    "The MNIST is a classic dataset commonly used for testing machine learning systems. It consists of pairs of images of handwritten digits and their corresponding labels.\n",
    "\n",
    "The images are composed of 28x28 pixels of greyscale RGB codes ranging from 0 to 255 and the labels are the digits from 0 to 9 that each image represents.\n",
    "\n",
    "There are 60,000 training pairs and 10,000 testing pairs.\n",
    "\n",
    "The goal is to build a neural network which can learn from the training set to properly identify the handwritten digits and which will perform well when presented with the testing set that it has never seen. This is a typical case of supervised learning.\n",
    "\n",
    "<img src = mnist_nn_nw.png>"
   ]
  },
  {
   "cell_type": "markdown",
   "metadata": {},
   "source": [
    "## Transforming the data\n",
    "We will transform the raw data to tensors and normalize it using the mean and standard deviation of the MNIST training data (0.1307 and 0.3081 respectively).\n",
    "\n",
    "First, let's load the needed libraries:"
   ]
  },
  {
   "cell_type": "code",
   "execution_count": 1,
   "metadata": {},
   "outputs": [],
   "source": [
    "import torch\n",
    "from torchvision import datasets, transforms\n",
    "from matplotlib import pyplot as plt"
   ]
  },
  {
   "cell_type": "markdown",
   "metadata": {},
   "source": [
    "Then, let's define a transformation:"
   ]
  },
  {
   "cell_type": "code",
   "execution_count": 2,
   "metadata": {},
   "outputs": [],
   "source": [
    "transform = transforms.Compose([\n",
    "        transforms.ToTensor(),\n",
    "        transforms.Normalize((0.1307,), (0.3081,))\n",
    "    ])"
   ]
  },
  {
   "cell_type": "code",
   "execution_count": 4,
   "metadata": {},
   "outputs": [],
   "source": [
    "# number of subprocesses to use for data loading\n",
    "num_workers = 0\n",
    "# how many samples per batch to load\n",
    "batch_size = 20\n",
    "\n",
    "# choose the training and test datasets\n",
    "train_data = datasets.MNIST(root='data', train=True,\n",
    "                                   download=True, transform=transform)\n",
    "test_data = datasets.MNIST(root='data', train=False,\n",
    "                                  download=True, transform=transform)\n",
    "\n",
    "# prepare data loaders\n",
    "train_loader = torch.utils.data.DataLoader(train_data, batch_size=batch_size,\n",
    "    num_workers=num_workers)\n",
    "test_loader = torch.utils.data.DataLoader(test_data, batch_size=batch_size, \n",
    "    num_workers=num_workers)"
   ]
  },
  {
   "cell_type": "markdown",
   "metadata": {},
   "source": [
    "#### Exploring the data\n",
    "Data inspection\n",
    "First, let's check the size of train_data:"
   ]
  },
  {
   "cell_type": "code",
   "execution_count": 5,
   "metadata": {},
   "outputs": [
    {
     "name": "stdout",
     "output_type": "stream",
     "text": [
      "60000\n"
     ]
    }
   ],
   "source": [
    "print(len(train_data))"
   ]
  },
  {
   "cell_type": "markdown",
   "metadata": {},
   "source": [
    "OK, that makes sense since the MNIST's training set has 60,000 pairs. train_data has 60,000 elements and we should expect each element to be of size 2 since it is a pair. Let's double-check with the first element:"
   ]
  },
  {
   "cell_type": "code",
   "execution_count": 6,
   "metadata": {},
   "outputs": [
    {
     "name": "stdout",
     "output_type": "stream",
     "text": [
      "2\n"
     ]
    }
   ],
   "source": [
    "print(len(train_data[0]))"
   ]
  },
  {
   "cell_type": "markdown",
   "metadata": {},
   "source": [
    "OK. So far, so good. We can print that first pair:"
   ]
  },
  {
   "cell_type": "code",
   "execution_count": 7,
   "metadata": {},
   "outputs": [
    {
     "name": "stdout",
     "output_type": "stream",
     "text": [
      "(tensor([[[-0.4242, -0.4242, -0.4242, -0.4242, -0.4242, -0.4242, -0.4242,\n",
      "          -0.4242, -0.4242, -0.4242, -0.4242, -0.4242, -0.4242, -0.4242,\n",
      "          -0.4242, -0.4242, -0.4242, -0.4242, -0.4242, -0.4242, -0.4242,\n",
      "          -0.4242, -0.4242, -0.4242, -0.4242, -0.4242, -0.4242, -0.4242],\n",
      "         [-0.4242, -0.4242, -0.4242, -0.4242, -0.4242, -0.4242, -0.4242,\n",
      "          -0.4242, -0.4242, -0.4242, -0.4242, -0.4242, -0.4242, -0.4242,\n",
      "          -0.4242, -0.4242, -0.4242, -0.4242, -0.4242, -0.4242, -0.4242,\n",
      "          -0.4242, -0.4242, -0.4242, -0.4242, -0.4242, -0.4242, -0.4242],\n",
      "         [-0.4242, -0.4242, -0.4242, -0.4242, -0.4242, -0.4242, -0.4242,\n",
      "          -0.4242, -0.4242, -0.4242, -0.4242, -0.4242, -0.4242, -0.4242,\n",
      "          -0.4242, -0.4242, -0.4242, -0.4242, -0.4242, -0.4242, -0.4242,\n",
      "          -0.4242, -0.4242, -0.4242, -0.4242, -0.4242, -0.4242, -0.4242],\n",
      "         [-0.4242, -0.4242, -0.4242, -0.4242, -0.4242, -0.4242, -0.4242,\n",
      "          -0.4242, -0.4242, -0.4242, -0.4242, -0.4242, -0.4242, -0.4242,\n",
      "          -0.4242, -0.4242, -0.4242, -0.4242, -0.4242, -0.4242, -0.4242,\n",
      "          -0.4242, -0.4242, -0.4242, -0.4242, -0.4242, -0.4242, -0.4242],\n",
      "         [-0.4242, -0.4242, -0.4242, -0.4242, -0.4242, -0.4242, -0.4242,\n",
      "          -0.4242, -0.4242, -0.4242, -0.4242, -0.4242, -0.4242, -0.4242,\n",
      "          -0.4242, -0.4242, -0.4242, -0.4242, -0.4242, -0.4242, -0.4242,\n",
      "          -0.4242, -0.4242, -0.4242, -0.4242, -0.4242, -0.4242, -0.4242],\n",
      "         [-0.4242, -0.4242, -0.4242, -0.4242, -0.4242, -0.4242, -0.4242,\n",
      "          -0.4242, -0.4242, -0.4242, -0.4242, -0.4242, -0.3860, -0.1951,\n",
      "          -0.1951, -0.1951,  1.1795,  1.3068,  1.8032, -0.0933,  1.6887,\n",
      "           2.8215,  2.7197,  1.1923, -0.4242, -0.4242, -0.4242, -0.4242],\n",
      "         [-0.4242, -0.4242, -0.4242, -0.4242, -0.4242, -0.4242, -0.4242,\n",
      "          -0.4242, -0.0424,  0.0340,  0.7722,  1.5359,  1.7396,  2.7960,\n",
      "           2.7960,  2.7960,  2.7960,  2.7960,  2.4396,  1.7650,  2.7960,\n",
      "           2.6560,  2.0578,  0.3904, -0.4242, -0.4242, -0.4242, -0.4242],\n",
      "         [-0.4242, -0.4242, -0.4242, -0.4242, -0.4242, -0.4242, -0.4242,\n",
      "           0.1995,  2.6051,  2.7960,  2.7960,  2.7960,  2.7960,  2.7960,\n",
      "           2.7960,  2.7960,  2.7960,  2.7706,  0.7595,  0.6195,  0.6195,\n",
      "           0.2886,  0.0722, -0.4242, -0.4242, -0.4242, -0.4242, -0.4242],\n",
      "         [-0.4242, -0.4242, -0.4242, -0.4242, -0.4242, -0.4242, -0.4242,\n",
      "          -0.1951,  2.3633,  2.7960,  2.7960,  2.7960,  2.7960,  2.7960,\n",
      "           2.0960,  1.8923,  2.7197,  2.6433, -0.4242, -0.4242, -0.4242,\n",
      "          -0.4242, -0.4242, -0.4242, -0.4242, -0.4242, -0.4242, -0.4242],\n",
      "         [-0.4242, -0.4242, -0.4242, -0.4242, -0.4242, -0.4242, -0.4242,\n",
      "          -0.4242,  0.5940,  1.5614,  0.9377,  2.7960,  2.7960,  2.1851,\n",
      "          -0.2842, -0.4242,  0.1231,  1.5359, -0.4242, -0.4242, -0.4242,\n",
      "          -0.4242, -0.4242, -0.4242, -0.4242, -0.4242, -0.4242, -0.4242],\n",
      "         [-0.4242, -0.4242, -0.4242, -0.4242, -0.4242, -0.4242, -0.4242,\n",
      "          -0.4242, -0.4242, -0.2460, -0.4115,  1.5359,  2.7960,  0.7213,\n",
      "          -0.4242, -0.4242, -0.4242, -0.4242, -0.4242, -0.4242, -0.4242,\n",
      "          -0.4242, -0.4242, -0.4242, -0.4242, -0.4242, -0.4242, -0.4242],\n",
      "         [-0.4242, -0.4242, -0.4242, -0.4242, -0.4242, -0.4242, -0.4242,\n",
      "          -0.4242, -0.4242, -0.4242, -0.4242,  1.3450,  2.7960,  1.9942,\n",
      "          -0.3988, -0.4242, -0.4242, -0.4242, -0.4242, -0.4242, -0.4242,\n",
      "          -0.4242, -0.4242, -0.4242, -0.4242, -0.4242, -0.4242, -0.4242],\n",
      "         [-0.4242, -0.4242, -0.4242, -0.4242, -0.4242, -0.4242, -0.4242,\n",
      "          -0.4242, -0.4242, -0.4242, -0.4242, -0.2842,  1.9942,  2.7960,\n",
      "           0.4668, -0.4242, -0.4242, -0.4242, -0.4242, -0.4242, -0.4242,\n",
      "          -0.4242, -0.4242, -0.4242, -0.4242, -0.4242, -0.4242, -0.4242],\n",
      "         [-0.4242, -0.4242, -0.4242, -0.4242, -0.4242, -0.4242, -0.4242,\n",
      "          -0.4242, -0.4242, -0.4242, -0.4242, -0.4242,  0.0213,  2.6433,\n",
      "           2.4396,  1.6123,  0.9504, -0.4115, -0.4242, -0.4242, -0.4242,\n",
      "          -0.4242, -0.4242, -0.4242, -0.4242, -0.4242, -0.4242, -0.4242],\n",
      "         [-0.4242, -0.4242, -0.4242, -0.4242, -0.4242, -0.4242, -0.4242,\n",
      "          -0.4242, -0.4242, -0.4242, -0.4242, -0.4242, -0.4242,  0.6068,\n",
      "           2.6306,  2.7960,  2.7960,  1.0904, -0.1060, -0.4242, -0.4242,\n",
      "          -0.4242, -0.4242, -0.4242, -0.4242, -0.4242, -0.4242, -0.4242],\n",
      "         [-0.4242, -0.4242, -0.4242, -0.4242, -0.4242, -0.4242, -0.4242,\n",
      "          -0.4242, -0.4242, -0.4242, -0.4242, -0.4242, -0.4242, -0.4242,\n",
      "           0.1486,  1.9432,  2.7960,  2.7960,  1.4850, -0.0806, -0.4242,\n",
      "          -0.4242, -0.4242, -0.4242, -0.4242, -0.4242, -0.4242, -0.4242],\n",
      "         [-0.4242, -0.4242, -0.4242, -0.4242, -0.4242, -0.4242, -0.4242,\n",
      "          -0.4242, -0.4242, -0.4242, -0.4242, -0.4242, -0.4242, -0.4242,\n",
      "          -0.4242, -0.2206,  0.7595,  2.7833,  2.7960,  1.9560, -0.4242,\n",
      "          -0.4242, -0.4242, -0.4242, -0.4242, -0.4242, -0.4242, -0.4242],\n",
      "         [-0.4242, -0.4242, -0.4242, -0.4242, -0.4242, -0.4242, -0.4242,\n",
      "          -0.4242, -0.4242, -0.4242, -0.4242, -0.4242, -0.4242, -0.4242,\n",
      "          -0.4242, -0.4242, -0.4242,  2.7451,  2.7960,  2.7451,  0.3904,\n",
      "          -0.4242, -0.4242, -0.4242, -0.4242, -0.4242, -0.4242, -0.4242],\n",
      "         [-0.4242, -0.4242, -0.4242, -0.4242, -0.4242, -0.4242, -0.4242,\n",
      "          -0.4242, -0.4242, -0.4242, -0.4242, -0.4242, -0.4242, -0.4242,\n",
      "           0.1613,  1.2305,  1.9051,  2.7960,  2.7960,  2.2105, -0.3988,\n",
      "          -0.4242, -0.4242, -0.4242, -0.4242, -0.4242, -0.4242, -0.4242],\n",
      "         [-0.4242, -0.4242, -0.4242, -0.4242, -0.4242, -0.4242, -0.4242,\n",
      "          -0.4242, -0.4242, -0.4242, -0.4242, -0.4242,  0.0722,  1.4596,\n",
      "           2.4906,  2.7960,  2.7960,  2.7960,  2.7578,  1.8923, -0.4242,\n",
      "          -0.4242, -0.4242, -0.4242, -0.4242, -0.4242, -0.4242, -0.4242],\n",
      "         [-0.4242, -0.4242, -0.4242, -0.4242, -0.4242, -0.4242, -0.4242,\n",
      "          -0.4242, -0.4242, -0.4242, -0.1187,  1.0268,  2.3887,  2.7960,\n",
      "           2.7960,  2.7960,  2.7960,  2.1342,  0.5686, -0.4242, -0.4242,\n",
      "          -0.4242, -0.4242, -0.4242, -0.4242, -0.4242, -0.4242, -0.4242],\n",
      "         [-0.4242, -0.4242, -0.4242, -0.4242, -0.4242, -0.4242, -0.4242,\n",
      "          -0.4242, -0.1315,  0.4159,  2.2869,  2.7960,  2.7960,  2.7960,\n",
      "           2.7960,  2.0960,  0.6068, -0.3988, -0.4242, -0.4242, -0.4242,\n",
      "          -0.4242, -0.4242, -0.4242, -0.4242, -0.4242, -0.4242, -0.4242],\n",
      "         [-0.4242, -0.4242, -0.4242, -0.4242, -0.4242, -0.4242, -0.1951,\n",
      "           1.7523,  2.3633,  2.7960,  2.7960,  2.7960,  2.7960,  2.0578,\n",
      "           0.5940, -0.3097, -0.4242, -0.4242, -0.4242, -0.4242, -0.4242,\n",
      "          -0.4242, -0.4242, -0.4242, -0.4242, -0.4242, -0.4242, -0.4242],\n",
      "         [-0.4242, -0.4242, -0.4242, -0.4242,  0.2758,  1.7650,  2.4524,\n",
      "           2.7960,  2.7960,  2.7960,  2.7960,  2.6815,  1.2686, -0.2842,\n",
      "          -0.4242, -0.4242, -0.4242, -0.4242, -0.4242, -0.4242, -0.4242,\n",
      "          -0.4242, -0.4242, -0.4242, -0.4242, -0.4242, -0.4242, -0.4242],\n",
      "         [-0.4242, -0.4242, -0.4242, -0.4242,  1.3068,  2.7960,  2.7960,\n",
      "           2.7960,  2.2742,  1.2941,  1.2559, -0.2206, -0.4242, -0.4242,\n",
      "          -0.4242, -0.4242, -0.4242, -0.4242, -0.4242, -0.4242, -0.4242,\n",
      "          -0.4242, -0.4242, -0.4242, -0.4242, -0.4242, -0.4242, -0.4242],\n",
      "         [-0.4242, -0.4242, -0.4242, -0.4242, -0.4242, -0.4242, -0.4242,\n",
      "          -0.4242, -0.4242, -0.4242, -0.4242, -0.4242, -0.4242, -0.4242,\n",
      "          -0.4242, -0.4242, -0.4242, -0.4242, -0.4242, -0.4242, -0.4242,\n",
      "          -0.4242, -0.4242, -0.4242, -0.4242, -0.4242, -0.4242, -0.4242],\n",
      "         [-0.4242, -0.4242, -0.4242, -0.4242, -0.4242, -0.4242, -0.4242,\n",
      "          -0.4242, -0.4242, -0.4242, -0.4242, -0.4242, -0.4242, -0.4242,\n",
      "          -0.4242, -0.4242, -0.4242, -0.4242, -0.4242, -0.4242, -0.4242,\n",
      "          -0.4242, -0.4242, -0.4242, -0.4242, -0.4242, -0.4242, -0.4242],\n",
      "         [-0.4242, -0.4242, -0.4242, -0.4242, -0.4242, -0.4242, -0.4242,\n",
      "          -0.4242, -0.4242, -0.4242, -0.4242, -0.4242, -0.4242, -0.4242,\n",
      "          -0.4242, -0.4242, -0.4242, -0.4242, -0.4242, -0.4242, -0.4242,\n",
      "          -0.4242, -0.4242, -0.4242, -0.4242, -0.4242, -0.4242, -0.4242]]]), 5)\n"
     ]
    }
   ],
   "source": [
    "print(train_data[0])"
   ]
  },
  {
   "cell_type": "markdown",
   "metadata": {},
   "source": [
    "And you can see that it is a tuple with:"
   ]
  },
  {
   "cell_type": "code",
   "execution_count": 8,
   "metadata": {},
   "outputs": [
    {
     "name": "stdout",
     "output_type": "stream",
     "text": [
      "<class 'tuple'>\n"
     ]
    }
   ],
   "source": [
    "print(type(train_data[0]))"
   ]
  },
  {
   "cell_type": "markdown",
   "metadata": {},
   "source": [
    "What is that tuple made of?"
   ]
  },
  {
   "cell_type": "code",
   "execution_count": 9,
   "metadata": {},
   "outputs": [
    {
     "name": "stdout",
     "output_type": "stream",
     "text": [
      "<class 'torch.Tensor'>\n",
      "<class 'int'>\n"
     ]
    }
   ],
   "source": [
    "print(type(train_data[0][0]))\n",
    "print(type(train_data[0][1]))"
   ]
  },
  {
   "cell_type": "markdown",
   "metadata": {},
   "source": [
    "It is made of the tensor for the first image (remember that we transformed the images into tensors when we created the objects train_data and test_data) and the integer of the first label (which you can see is 5 when you print train_data[0][1]).\n",
    "\n",
    "So since train_data[0][0] is the tensor representing the image of the first pair, let's check its size:"
   ]
  },
  {
   "cell_type": "code",
   "execution_count": 10,
   "metadata": {},
   "outputs": [
    {
     "name": "stdout",
     "output_type": "stream",
     "text": [
      "torch.Size([1, 28, 28])\n"
     ]
    }
   ],
   "source": [
    "print(train_data[0][0].size())"
   ]
  },
  {
   "cell_type": "markdown",
   "metadata": {},
   "source": [
    "That makes sense: a color image would have 3 layers of RGB values (so the size in the first dimension would be 3), but because the MNIST has black and white images, there is a single layer of values—the values of each pixel on a gray scale—so the first dimension has a size of 1. The 2nd and 3rd dimensions correspond to the width and length of the image in pixels, hence 28 and 28."
   ]
  },
  {
   "cell_type": "code",
   "execution_count": 11,
   "metadata": {},
   "outputs": [
    {
     "name": "stdout",
     "output_type": "stream",
     "text": [
      "tensor([[-0.4242, -0.4242, -0.4242, -0.4242, -0.4242, -0.4242, -0.4242, -0.4242,\n",
      "         -0.4242, -0.4242, -0.4242, -0.4242, -0.4242, -0.4242, -0.4242, -0.4242,\n",
      "         -0.4242, -0.4242, -0.4242, -0.4242, -0.4242, -0.4242, -0.4242, -0.4242,\n",
      "         -0.4242, -0.4242, -0.4242, -0.4242],\n",
      "        [-0.4242, -0.4242, -0.4242, -0.4242, -0.4242, -0.4242, -0.4242, -0.4242,\n",
      "         -0.4242, -0.4242, -0.4242, -0.4242, -0.4242, -0.4242, -0.4242, -0.4242,\n",
      "         -0.4242, -0.4242, -0.4242, -0.4242, -0.4242, -0.4242, -0.4242, -0.4242,\n",
      "         -0.4242, -0.4242, -0.4242, -0.4242],\n",
      "        [-0.4242, -0.4242, -0.4242, -0.4242, -0.4242, -0.4242, -0.4242, -0.4242,\n",
      "         -0.4242, -0.4242, -0.4242, -0.4242, -0.4242, -0.4242, -0.4242, -0.4242,\n",
      "         -0.4242, -0.4242, -0.4242, -0.4242, -0.4242, -0.4242, -0.4242, -0.4242,\n",
      "         -0.4242, -0.4242, -0.4242, -0.4242],\n",
      "        [-0.4242, -0.4242, -0.4242, -0.4242, -0.4242, -0.4242, -0.4242, -0.4242,\n",
      "         -0.4242, -0.4242, -0.4242, -0.4242, -0.4242, -0.4242, -0.4242, -0.4242,\n",
      "         -0.4242, -0.4242, -0.4242, -0.4242, -0.4242, -0.4242, -0.4242, -0.4242,\n",
      "         -0.4242, -0.4242, -0.4242, -0.4242],\n",
      "        [-0.4242, -0.4242, -0.4242, -0.4242, -0.4242, -0.4242, -0.4242, -0.4242,\n",
      "         -0.4242, -0.4242, -0.4242, -0.4242, -0.4242, -0.4242, -0.4242, -0.4242,\n",
      "         -0.4242, -0.4242, -0.4242, -0.4242, -0.4242, -0.4242, -0.4242, -0.4242,\n",
      "         -0.4242, -0.4242, -0.4242, -0.4242],\n",
      "        [-0.4242, -0.4242, -0.4242, -0.4242, -0.4242, -0.4242, -0.4242, -0.4242,\n",
      "         -0.4242, -0.4242, -0.4242, -0.4242, -0.3860, -0.1951, -0.1951, -0.1951,\n",
      "          1.1795,  1.3068,  1.8032, -0.0933,  1.6887,  2.8215,  2.7197,  1.1923,\n",
      "         -0.4242, -0.4242, -0.4242, -0.4242],\n",
      "        [-0.4242, -0.4242, -0.4242, -0.4242, -0.4242, -0.4242, -0.4242, -0.4242,\n",
      "         -0.0424,  0.0340,  0.7722,  1.5359,  1.7396,  2.7960,  2.7960,  2.7960,\n",
      "          2.7960,  2.7960,  2.4396,  1.7650,  2.7960,  2.6560,  2.0578,  0.3904,\n",
      "         -0.4242, -0.4242, -0.4242, -0.4242],\n",
      "        [-0.4242, -0.4242, -0.4242, -0.4242, -0.4242, -0.4242, -0.4242,  0.1995,\n",
      "          2.6051,  2.7960,  2.7960,  2.7960,  2.7960,  2.7960,  2.7960,  2.7960,\n",
      "          2.7960,  2.7706,  0.7595,  0.6195,  0.6195,  0.2886,  0.0722, -0.4242,\n",
      "         -0.4242, -0.4242, -0.4242, -0.4242],\n",
      "        [-0.4242, -0.4242, -0.4242, -0.4242, -0.4242, -0.4242, -0.4242, -0.1951,\n",
      "          2.3633,  2.7960,  2.7960,  2.7960,  2.7960,  2.7960,  2.0960,  1.8923,\n",
      "          2.7197,  2.6433, -0.4242, -0.4242, -0.4242, -0.4242, -0.4242, -0.4242,\n",
      "         -0.4242, -0.4242, -0.4242, -0.4242],\n",
      "        [-0.4242, -0.4242, -0.4242, -0.4242, -0.4242, -0.4242, -0.4242, -0.4242,\n",
      "          0.5940,  1.5614,  0.9377,  2.7960,  2.7960,  2.1851, -0.2842, -0.4242,\n",
      "          0.1231,  1.5359, -0.4242, -0.4242, -0.4242, -0.4242, -0.4242, -0.4242,\n",
      "         -0.4242, -0.4242, -0.4242, -0.4242],\n",
      "        [-0.4242, -0.4242, -0.4242, -0.4242, -0.4242, -0.4242, -0.4242, -0.4242,\n",
      "         -0.4242, -0.2460, -0.4115,  1.5359,  2.7960,  0.7213, -0.4242, -0.4242,\n",
      "         -0.4242, -0.4242, -0.4242, -0.4242, -0.4242, -0.4242, -0.4242, -0.4242,\n",
      "         -0.4242, -0.4242, -0.4242, -0.4242],\n",
      "        [-0.4242, -0.4242, -0.4242, -0.4242, -0.4242, -0.4242, -0.4242, -0.4242,\n",
      "         -0.4242, -0.4242, -0.4242,  1.3450,  2.7960,  1.9942, -0.3988, -0.4242,\n",
      "         -0.4242, -0.4242, -0.4242, -0.4242, -0.4242, -0.4242, -0.4242, -0.4242,\n",
      "         -0.4242, -0.4242, -0.4242, -0.4242],\n",
      "        [-0.4242, -0.4242, -0.4242, -0.4242, -0.4242, -0.4242, -0.4242, -0.4242,\n",
      "         -0.4242, -0.4242, -0.4242, -0.2842,  1.9942,  2.7960,  0.4668, -0.4242,\n",
      "         -0.4242, -0.4242, -0.4242, -0.4242, -0.4242, -0.4242, -0.4242, -0.4242,\n",
      "         -0.4242, -0.4242, -0.4242, -0.4242],\n",
      "        [-0.4242, -0.4242, -0.4242, -0.4242, -0.4242, -0.4242, -0.4242, -0.4242,\n",
      "         -0.4242, -0.4242, -0.4242, -0.4242,  0.0213,  2.6433,  2.4396,  1.6123,\n",
      "          0.9504, -0.4115, -0.4242, -0.4242, -0.4242, -0.4242, -0.4242, -0.4242,\n",
      "         -0.4242, -0.4242, -0.4242, -0.4242],\n",
      "        [-0.4242, -0.4242, -0.4242, -0.4242, -0.4242, -0.4242, -0.4242, -0.4242,\n",
      "         -0.4242, -0.4242, -0.4242, -0.4242, -0.4242,  0.6068,  2.6306,  2.7960,\n",
      "          2.7960,  1.0904, -0.1060, -0.4242, -0.4242, -0.4242, -0.4242, -0.4242,\n",
      "         -0.4242, -0.4242, -0.4242, -0.4242],\n",
      "        [-0.4242, -0.4242, -0.4242, -0.4242, -0.4242, -0.4242, -0.4242, -0.4242,\n",
      "         -0.4242, -0.4242, -0.4242, -0.4242, -0.4242, -0.4242,  0.1486,  1.9432,\n",
      "          2.7960,  2.7960,  1.4850, -0.0806, -0.4242, -0.4242, -0.4242, -0.4242,\n",
      "         -0.4242, -0.4242, -0.4242, -0.4242],\n",
      "        [-0.4242, -0.4242, -0.4242, -0.4242, -0.4242, -0.4242, -0.4242, -0.4242,\n",
      "         -0.4242, -0.4242, -0.4242, -0.4242, -0.4242, -0.4242, -0.4242, -0.2206,\n",
      "          0.7595,  2.7833,  2.7960,  1.9560, -0.4242, -0.4242, -0.4242, -0.4242,\n",
      "         -0.4242, -0.4242, -0.4242, -0.4242],\n",
      "        [-0.4242, -0.4242, -0.4242, -0.4242, -0.4242, -0.4242, -0.4242, -0.4242,\n",
      "         -0.4242, -0.4242, -0.4242, -0.4242, -0.4242, -0.4242, -0.4242, -0.4242,\n",
      "         -0.4242,  2.7451,  2.7960,  2.7451,  0.3904, -0.4242, -0.4242, -0.4242,\n",
      "         -0.4242, -0.4242, -0.4242, -0.4242],\n",
      "        [-0.4242, -0.4242, -0.4242, -0.4242, -0.4242, -0.4242, -0.4242, -0.4242,\n",
      "         -0.4242, -0.4242, -0.4242, -0.4242, -0.4242, -0.4242,  0.1613,  1.2305,\n",
      "          1.9051,  2.7960,  2.7960,  2.2105, -0.3988, -0.4242, -0.4242, -0.4242,\n",
      "         -0.4242, -0.4242, -0.4242, -0.4242],\n",
      "        [-0.4242, -0.4242, -0.4242, -0.4242, -0.4242, -0.4242, -0.4242, -0.4242,\n",
      "         -0.4242, -0.4242, -0.4242, -0.4242,  0.0722,  1.4596,  2.4906,  2.7960,\n",
      "          2.7960,  2.7960,  2.7578,  1.8923, -0.4242, -0.4242, -0.4242, -0.4242,\n",
      "         -0.4242, -0.4242, -0.4242, -0.4242],\n",
      "        [-0.4242, -0.4242, -0.4242, -0.4242, -0.4242, -0.4242, -0.4242, -0.4242,\n",
      "         -0.4242, -0.4242, -0.1187,  1.0268,  2.3887,  2.7960,  2.7960,  2.7960,\n",
      "          2.7960,  2.1342,  0.5686, -0.4242, -0.4242, -0.4242, -0.4242, -0.4242,\n",
      "         -0.4242, -0.4242, -0.4242, -0.4242],\n",
      "        [-0.4242, -0.4242, -0.4242, -0.4242, -0.4242, -0.4242, -0.4242, -0.4242,\n",
      "         -0.1315,  0.4159,  2.2869,  2.7960,  2.7960,  2.7960,  2.7960,  2.0960,\n",
      "          0.6068, -0.3988, -0.4242, -0.4242, -0.4242, -0.4242, -0.4242, -0.4242,\n",
      "         -0.4242, -0.4242, -0.4242, -0.4242],\n",
      "        [-0.4242, -0.4242, -0.4242, -0.4242, -0.4242, -0.4242, -0.1951,  1.7523,\n",
      "          2.3633,  2.7960,  2.7960,  2.7960,  2.7960,  2.0578,  0.5940, -0.3097,\n",
      "         -0.4242, -0.4242, -0.4242, -0.4242, -0.4242, -0.4242, -0.4242, -0.4242,\n",
      "         -0.4242, -0.4242, -0.4242, -0.4242],\n",
      "        [-0.4242, -0.4242, -0.4242, -0.4242,  0.2758,  1.7650,  2.4524,  2.7960,\n",
      "          2.7960,  2.7960,  2.7960,  2.6815,  1.2686, -0.2842, -0.4242, -0.4242,\n",
      "         -0.4242, -0.4242, -0.4242, -0.4242, -0.4242, -0.4242, -0.4242, -0.4242,\n",
      "         -0.4242, -0.4242, -0.4242, -0.4242],\n",
      "        [-0.4242, -0.4242, -0.4242, -0.4242,  1.3068,  2.7960,  2.7960,  2.7960,\n",
      "          2.2742,  1.2941,  1.2559, -0.2206, -0.4242, -0.4242, -0.4242, -0.4242,\n",
      "         -0.4242, -0.4242, -0.4242, -0.4242, -0.4242, -0.4242, -0.4242, -0.4242,\n",
      "         -0.4242, -0.4242, -0.4242, -0.4242],\n",
      "        [-0.4242, -0.4242, -0.4242, -0.4242, -0.4242, -0.4242, -0.4242, -0.4242,\n",
      "         -0.4242, -0.4242, -0.4242, -0.4242, -0.4242, -0.4242, -0.4242, -0.4242,\n",
      "         -0.4242, -0.4242, -0.4242, -0.4242, -0.4242, -0.4242, -0.4242, -0.4242,\n",
      "         -0.4242, -0.4242, -0.4242, -0.4242],\n",
      "        [-0.4242, -0.4242, -0.4242, -0.4242, -0.4242, -0.4242, -0.4242, -0.4242,\n",
      "         -0.4242, -0.4242, -0.4242, -0.4242, -0.4242, -0.4242, -0.4242, -0.4242,\n",
      "         -0.4242, -0.4242, -0.4242, -0.4242, -0.4242, -0.4242, -0.4242, -0.4242,\n",
      "         -0.4242, -0.4242, -0.4242, -0.4242],\n",
      "        [-0.4242, -0.4242, -0.4242, -0.4242, -0.4242, -0.4242, -0.4242, -0.4242,\n",
      "         -0.4242, -0.4242, -0.4242, -0.4242, -0.4242, -0.4242, -0.4242, -0.4242,\n",
      "         -0.4242, -0.4242, -0.4242, -0.4242, -0.4242, -0.4242, -0.4242, -0.4242,\n",
      "         -0.4242, -0.4242, -0.4242, -0.4242]])\n"
     ]
    }
   ],
   "source": [
    "print(train_data[0][0][0])"
   ]
  },
  {
   "cell_type": "code",
   "execution_count": 12,
   "metadata": {},
   "outputs": [
    {
     "name": "stdout",
     "output_type": "stream",
     "text": [
      "torch.Size([28, 28])\n"
     ]
    }
   ],
   "source": [
    "print((train_data[0][0][0]).size())"
   ]
  },
  {
   "cell_type": "markdown",
   "metadata": {},
   "source": [
    "## Plotting an image from the data\n",
    "For this, we will use pyplot from matplotlib.\n",
    "\n",
    "First, we select the image of the first pair and we resize it from 3 to 2 dimensions by removing its dimension of size 1 with torch.squeeze:"
   ]
  },
  {
   "cell_type": "code",
   "execution_count": 13,
   "metadata": {},
   "outputs": [],
   "source": [
    "img = torch.squeeze(train_data[0][0])"
   ]
  },
  {
   "cell_type": "code",
   "execution_count": 14,
   "metadata": {},
   "outputs": [
    {
     "name": "stdout",
     "output_type": "stream",
     "text": [
      "\n",
      "\n"
     ]
    },
    {
     "data": {
      "text/plain": [
       "<matplotlib.image.AxesImage at 0x7f205c105748>"
      ]
     },
     "execution_count": 14,
     "metadata": {},
     "output_type": "execute_result"
    },
    {
     "data": {
      "image/png": "[encoded data removed]",
      "text/plain": [
       "<Figure size 432x288 with 1 Axes>"
      ]
     },
     "metadata": {
      "needs_background": "light"
     },
     "output_type": "display_data"
    }
   ],
   "source": [
    "plt.imshow(img, cmap='gray')"
   ]
  },
  {
   "cell_type": "markdown",
   "metadata": {},
   "source": [
    "And indeed, it matches the first label we explored earlier (train_data[0][1])."
   ]
  },
  {
   "cell_type": "markdown",
   "metadata": {},
   "source": [
    "#### Plotting an image with its pixel values\n",
    "We can plot it with more details by showing the value of each pixel in the image. One little twist is that we need to pick a threshold value below which we print the pixel values in white otherwise they would not be visible (black on near black background). We also round the pixel values to one decimal digit so as not to clutter the result."
   ]
  },
  {
   "cell_type": "code",
   "execution_count": 16,
   "metadata": {},
   "outputs": [
    {
     "data": {
      "image/png": "[encoded data removed]",
      "text/plain": [
       "<Figure size 864x864 with 1 Axes>"
      ]
     },
     "metadata": {
      "needs_background": "light"
     },
     "output_type": "display_data"
    }
   ],
   "source": [
    "imgplot = plt.figure(figsize = (12, 12))\n",
    "sub = imgplot.add_subplot(111)\n",
    "sub.imshow(img, cmap='gray')\n",
    "width, height = img.shape\n",
    "thresh = img.max() / 2.5\n",
    "for x in range(width):\n",
    "    for y in range(height):\n",
    "        val = round(img[x][y].item(), 1)\n",
    "        sub.annotate(str(val), xy=(y, x),\n",
    "                    horizontalalignment='center',\n",
    "                    verticalalignment='center',\n",
    "                    color='white' if img[x][y].item() < thresh else 'black')"
   ]
  },
  {
   "cell_type": "markdown",
   "metadata": {},
   "source": [
    "## Batch processing\n",
    "PyTorch provides the torch.utils.data.DataLoader class which combines a dataset and an optional sampler and provides an iterable (while training or testing our neural network, we will iterate over that object). It allows, among many other things, to set the batch size and shuffle the data.\n",
    "\n",
    "So our last step in preparing the data is to pass it through DataLoader."
   ]
  },
  {
   "cell_type": "markdown",
   "metadata": {},
   "source": [
    "### Training data"
   ]
  },
  {
   "cell_type": "code",
   "execution_count": 17,
   "metadata": {},
   "outputs": [],
   "source": [
    "train_loader = torch.utils.data.DataLoader(\n",
    "    train_data, batch_size=20, shuffle=True)"
   ]
  },
  {
   "cell_type": "markdown",
   "metadata": {},
   "source": [
    "### Test data"
   ]
  },
  {
   "cell_type": "code",
   "execution_count": 18,
   "metadata": {},
   "outputs": [],
   "source": [
    "test_loader = torch.utils.data.DataLoader(\n",
    "    test_data, batch_size=20, shuffle=False)"
   ]
  },
  {
   "cell_type": "markdown",
   "metadata": {},
   "source": [
    "### Plot a full batch of images with their labels\n",
    "Now that we have passed our data through DataLoader, it is easy to select one batch from it. Let's plot an entire batch of images with their labels.\n",
    "\n",
    "First, we need to get one batch of training images and their labels:"
   ]
  },
  {
   "cell_type": "code",
   "execution_count": 19,
   "metadata": {},
   "outputs": [],
   "source": [
    "dataiter = iter(train_loader)\n",
    "batchimg, batchlabel = dataiter.next()"
   ]
  },
  {
   "cell_type": "markdown",
   "metadata": {},
   "source": [
    "Then, we can plot them:"
   ]
  },
  {
   "cell_type": "code",
   "execution_count": 20,
   "metadata": {},
   "outputs": [
    {
     "data": {
      "image/png": "[encoded data removed]",
      "text/plain": [
       "<Figure size 1440x360 with 20 Axes>"
      ]
     },
     "metadata": {},
     "output_type": "display_data"
    }
   ],
   "source": [
    "batchplot = plt.figure(figsize=(20, 5))\n",
    "for i in torch.arange(20):\n",
    "    sub = batchplot.add_subplot(2, 10, i+1, xticks=[], yticks=[])\n",
    "    sub.imshow(torch.squeeze(batchimg[i]), cmap='gray')\n",
    "    sub.set_title(str(batchlabel[i].item()), fontsize=25)"
   ]
  },
  {
   "cell_type": "markdown",
   "metadata": {},
   "source": [
    "In this lesson, you will watch the third video on NN by 3Blue1Brown which explains how backpropagation works."
   ]
  },
  {
   "cell_type": "code",
   "execution_count": 27,
   "metadata": {},
   "outputs": [
    {
     "data": {
      "text/html": [
       "<iframe width=\"810\" height=\"456\" src=\"https://www.youtube.com/embed/Ilg3gGewQ5U\" frameborder=\"0\" allow=\"accelerometer; autoplay; clipboard-write; encrypted-media; gyroscope; picture-in-picture\" allowfullscreen></iframe>\n"
      ],
      "text/plain": [
       "<IPython.core.display.HTML object>"
      ]
     },
     "metadata": {},
     "output_type": "display_data"
    }
   ],
   "source": [
    "%%HTML\n",
    "<iframe width=\"810\" height=\"456\" src=\"https://www.youtube.com/embed/Ilg3gGewQ5U\" frameborder=\"0\" allow=\"accelerometer; autoplay; clipboard-write; encrypted-media; gyroscope; picture-in-picture\" allowfullscreen></iframe>"
   ]
  },
  {
   "cell_type": "markdown",
   "metadata": {},
   "source": [
    "In this lesson, you will watch the last video on NN by 3Blue1Brown which dives into the calculus of backpropagation."
   ]
  },
  {
   "cell_type": "code",
   "execution_count": 28,
   "metadata": {},
   "outputs": [
    {
     "data": {
      "text/html": [
       "<iframe width=\"810\" height=\"456\" src=\"https://www.youtube.com/embed/tIeHLnjs5U8\" frameborder=\"0\" allow=\"accelerometer; autoplay; clipboard-write; encrypted-media; gyroscope; picture-in-picture\" allowfullscreen></iframe>\n"
      ],
      "text/plain": [
       "<IPython.core.display.HTML object>"
      ]
     },
     "metadata": {},
     "output_type": "display_data"
    }
   ],
   "source": [
    "%%HTML\n",
    "<iframe width=\"810\" height=\"456\" src=\"https://www.youtube.com/embed/tIeHLnjs5U8\" frameborder=\"0\" allow=\"accelerometer; autoplay; clipboard-write; encrypted-media; gyroscope; picture-in-picture\" allowfullscreen></iframe>"
   ]
  },
  {
   "cell_type": "markdown",
   "metadata": {},
   "source": [
    "After watching the last two videos, you may be starting to panic: how hard will it be to write the chain rule (with so many derivatives!) in backpropagation?!?\n",
    "\n",
    "Don't fear! PyTorch has automatic differentiation abilities—meaning that it can track all the operations conducted on tensors and do the backprop for you—thanks to its package torch.autograd."
   ]
  },
  {
   "cell_type": "markdown",
   "metadata": {},
   "source": [
    "# Tracking computations\n",
    "PyTorch does not track all the computations on all the tensors (this would be extremely memory intensive!). To start tracking computations on a vector, set the .requires_grad attribute to True:"
   ]
  },
  {
   "cell_type": "code",
   "execution_count": 29,
   "metadata": {},
   "outputs": [
    {
     "name": "stdout",
     "output_type": "stream",
     "text": [
      "tensor([[0.6920, 0.8786, 0.8794, 0.8582, 0.3674, 0.4280, 0.8696],\n",
      "        [0.7033, 0.8244, 0.0818, 0.1002, 0.8019, 0.6235, 0.9274],\n",
      "        [0.5404, 0.5030, 0.0100, 0.9813, 0.9033, 0.7471, 0.7786]],\n",
      "       requires_grad=True)\n"
     ]
    }
   ],
   "source": [
    "import torch\n",
    "\n",
    "x = torch.rand(3, 7, requires_grad=True)\n",
    "print(x)"
   ]
  },
  {
   "cell_type": "markdown",
   "metadata": {},
   "source": [
    "## The grad_fun attribute\n",
    "Whenever a tensor is created by an operation involving a tracked tensor, it has a grad_fun attribute:"
   ]
  },
  {
   "cell_type": "code",
   "execution_count": 30,
   "metadata": {},
   "outputs": [
    {
     "name": "stdout",
     "output_type": "stream",
     "text": [
      "tensor([[1., 1., 1., 1.],\n",
      "        [1., 1., 1., 1.]], requires_grad=True)\n",
      "tensor([[2., 2., 2., 2.],\n",
      "        [2., 2., 2., 2.]], grad_fn=<AddBackward0>)\n",
      "<AddBackward0 object at 0x7f2051309a58>\n"
     ]
    }
   ],
   "source": [
    "x = torch.ones(2, 4, requires_grad=True)\n",
    "print(x)\n",
    "y = x + 1\n",
    "print(y)\n",
    "print(y.grad_fn)"
   ]
  },
  {
   "cell_type": "markdown",
   "metadata": {},
   "source": [
    "### Judicious tracking\n",
    "You don't want to track more than is necessary. There are multiple ways to avoid tracking what you don't want to.\n",
    "\n",
    "You can simply stop tracking computations on a tensor with the method detach:"
   ]
  },
  {
   "cell_type": "code",
   "execution_count": 31,
   "metadata": {},
   "outputs": [
    {
     "name": "stdout",
     "output_type": "stream",
     "text": [
      "tensor([[0.4637, 0.2215, 0.9602],\n",
      "        [0.5404, 0.6292, 0.8367],\n",
      "        [0.8346, 0.9441, 0.1528],\n",
      "        [0.6001, 0.3557, 0.3291]], requires_grad=True)\n",
      "tensor([[0.4637, 0.2215, 0.9602],\n",
      "        [0.5404, 0.6292, 0.8367],\n",
      "        [0.8346, 0.9441, 0.1528],\n",
      "        [0.6001, 0.3557, 0.3291]])\n"
     ]
    }
   ],
   "source": [
    "x = torch.rand(4, 3, requires_grad=True)\n",
    "print(x)\n",
    "print(x.detach_())"
   ]
  },
  {
   "cell_type": "markdown",
   "metadata": {},
   "source": [
    "You can change its requires_grad flag:"
   ]
  },
  {
   "cell_type": "code",
   "execution_count": 32,
   "metadata": {},
   "outputs": [
    {
     "name": "stdout",
     "output_type": "stream",
     "text": [
      "tensor([[0.4476, 0.4979, 0.4889],\n",
      "        [0.3875, 0.8288, 0.5138],\n",
      "        [0.7687, 0.3369, 0.5070],\n",
      "        [0.8387, 0.0752, 0.4951]], requires_grad=True)\n",
      "tensor([[0.4476, 0.4979, 0.4889],\n",
      "        [0.3875, 0.8288, 0.5138],\n",
      "        [0.7687, 0.3369, 0.5070],\n",
      "        [0.8387, 0.0752, 0.4951]])\n"
     ]
    }
   ],
   "source": [
    "x = torch.rand(4, 3, requires_grad=True)\n",
    "print(x)\n",
    "print(x.requires_grad_(False))"
   ]
  },
  {
   "cell_type": "markdown",
   "metadata": {},
   "source": [
    "### Calculating gradients\n",
    "After you have performed a number of operations on x and obtained a final object (let's call it loss since in the context of neural networks, the output of the loss function is the starting place of the backpropagation process), you can get the gradient of any object y with:"
   ]
  },
  {
   "cell_type": "raw",
   "metadata": {},
   "source": [
    "loss.backward()\n",
    "print(y.grad)"
   ]
  },
  {
   "cell_type": "markdown",
   "metadata": {},
   "source": [
    "### Example\n",
    "Let's go over a simple example:\n",
    "\n",
    "- let real be the tensor of some real values\n",
    "\n",
    "- let predicted be the tensor given by some model trying to predict these real values after an iteration\n",
    "\n",
    "We will calculate the first derivative (first step of the backpropagation) manually and with the torch.autograd package to really understand what that package does.\n",
    "\n",
    "Let's fill real and predicted with random values since we don't have a real situation with a real network (but let's make sure to start recording the history of computations performed on predicted):"
   ]
  },
  {
   "cell_type": "code",
   "execution_count": 34,
   "metadata": {},
   "outputs": [
    {
     "name": "stdout",
     "output_type": "stream",
     "text": [
      "tensor([[0.8562, 0.0335, 0.9108, 0.0427, 0.2666, 0.0023, 0.7535, 0.7558],\n",
      "        [0.3713, 0.3905, 0.7425, 0.1981, 0.0072, 0.8688, 0.1102, 0.1767],\n",
      "        [0.7453, 0.0923, 0.9927, 0.2581, 0.5734, 0.5776, 0.6235, 0.0707]])\n",
      "tensor([[0.8653, 0.6326, 0.3733, 0.4450, 0.9761, 0.5918, 0.9832, 0.3157],\n",
      "        [0.7777, 0.9275, 0.8372, 0.1612, 0.6281, 0.0117, 0.4310, 0.4740],\n",
      "        [0.7579, 0.3015, 0.4341, 0.0596, 0.4539, 0.3583, 0.4268, 0.5649]],\n",
      "       requires_grad=True)\n"
     ]
    }
   ],
   "source": [
    "real = torch.rand(3, 8)\n",
    "print(real)\n",
    "\n",
    "predicted = torch.rand(3, 8, requires_grad=True)\n",
    "print(predicted)"
   ]
  },
  {
   "cell_type": "markdown",
   "metadata": {},
   "source": [
    "Several loss functions can be used in machine learning, but let's use the one you saw in the previous video:\n",
    "$$\n",
    " \\text{loss} = \\sum (\\text{predicted}- \\text{real})^2\n",
    "$$"
   ]
  },
  {
   "cell_type": "code",
   "execution_count": 35,
   "metadata": {},
   "outputs": [],
   "source": [
    "loss = (predicted - real).pow(2).sum()"
   ]
  },
  {
   "cell_type": "markdown",
   "metadata": {},
   "source": [
    "Now, to train a model, after each forward-pass, we need to go through the backpropagation to adjust the weights and biases of the model. That means, we need to calculate all the derivatives, starting from the derivative of the predicted values up to the derivatives of the weights and biases.\n",
    "\n",
    "Here, we will only do the very first step: calculate the derivative of predicted."
   ]
  },
  {
   "cell_type": "markdown",
   "metadata": {},
   "source": [
    "Manual derivative calculation\n",
    "As you saw in the previous video, the formula for this first derivative, with the loss function we used, is:\n",
    "$$\n",
    "\\text{gradient}_\\text{predicted} = 2(\\text{predicted} - \\text{real})\n",
    "$$\n",
    "There is no point in adding this operation to predicted's computation history, so we will exclude it with with torch.no_grad():"
   ]
  },
  {
   "cell_type": "code",
   "execution_count": 37,
   "metadata": {},
   "outputs": [
    {
     "name": "stdout",
     "output_type": "stream",
     "text": [
      "tensor([[ 0.0181,  1.1981, -1.0751,  0.8046,  1.4190,  1.1792,  0.4596, -0.8801],\n",
      "        [ 0.8127,  1.0739,  0.1894, -0.0737,  1.2418, -1.7144,  0.6416,  0.5947],\n",
      "        [ 0.0251,  0.4185, -1.1172, -0.3969, -0.2390, -0.4386, -0.3935,  0.9883]])\n"
     ]
    }
   ],
   "source": [
    "with torch.no_grad(): #you can wrap any code you don't want to track with with torch.no_grad():\n",
    "\n",
    "    manual_gradient_predicted = 2.0 * (predicted - real)\n",
    "\n",
    "print(manual_gradient_predicted)"
   ]
  },
  {
   "cell_type": "markdown",
   "metadata": {},
   "source": [
    "### Automatic derivative calculation\n",
    "Now, with torch.autograd:"
   ]
  },
  {
   "cell_type": "code",
   "execution_count": 38,
   "metadata": {},
   "outputs": [
    {
     "name": "stderr",
     "output_type": "stream",
     "text": [
      "/home/fahim/anaconda3/envs/myenv/lib/python3.6/site-packages/torch/autograd/__init__.py:132: UserWarning: CUDA initialization: Found no NVIDIA driver on your system. Please check that you have an NVIDIA GPU and installed a driver from http://www.nvidia.com/Download/index.aspx (Triggered internally at  /pytorch/c10/cuda/CUDAFunctions.cpp:100.)\n",
      "  allow_unreachable=True)  # allow_unreachable flag\n"
     ]
    }
   ],
   "source": [
    "loss.backward()"
   ]
  },
  {
   "cell_type": "markdown",
   "metadata": {},
   "source": [
    "Since we tracked computations on predicted, we can calculate its gradient with:"
   ]
  },
  {
   "cell_type": "code",
   "execution_count": 39,
   "metadata": {},
   "outputs": [
    {
     "name": "stdout",
     "output_type": "stream",
     "text": [
      "tensor([[ 0.0181,  1.1981, -1.0751,  0.8046,  1.4190,  1.1792,  0.4596, -0.8801],\n",
      "        [ 0.8127,  1.0739,  0.1894, -0.0737,  1.2418, -1.7144,  0.6416,  0.5947],\n",
      "        [ 0.0251,  0.4185, -1.1172, -0.3969, -0.2390, -0.4386, -0.3935,  0.9883]])\n"
     ]
    }
   ],
   "source": [
    "auto_gradient_predicted = predicted.grad\n",
    "print(auto_gradient_predicted)"
   ]
  },
  {
   "cell_type": "markdown",
   "metadata": {},
   "source": [
    "#### Comparison\n",
    "The result is the same, as can be tested with:"
   ]
  },
  {
   "cell_type": "code",
   "execution_count": 40,
   "metadata": {},
   "outputs": [
    {
     "name": "stdout",
     "output_type": "stream",
     "text": [
      "tensor(True)\n"
     ]
    }
   ],
   "source": [
    "print(manual_gradient_predicted.eq(auto_gradient_predicted).all())"
   ]
  },
  {
   "cell_type": "markdown",
   "metadata": {},
   "source": [
    "The calculation of this first derivative of backpropagation was simple enough. But to propagate all the derivatives calculations backward through the chain rule would quickly turn into a deep calculus problem. With torch.autograd, calculating the gradients of all the other elements of the network is as simple as calling them with the attribute grad once the function torch.Tensor.backward() has been run."
   ]
  },
  {
   "cell_type": "markdown",
   "metadata": {},
   "source": [
    "#### Let's build an MLP\n",
    "The multi-layer perceptron (MLP) is the simplest neural network. It is a feed-forward (i.e. no loop), fully-connected (i.e. each neuron of one layer is connected to all the neurons of the adjacent layers) neural network with a single hidden layer.\n",
    "\n",
    "<img src = mlp_nw.png>"
   ]
  },
  {
   "cell_type": "code",
   "execution_count": 41,
   "metadata": {},
   "outputs": [
    {
     "name": "stdout",
     "output_type": "stream",
     "text": [
      "\n"
     ]
    }
   ],
   "source": [
    "import torch\n",
    "import torch.nn as nn\n",
    "import torch.nn.functional as F\n",
    "import torch.optim as optim\n",
    "from torch.utils.tensorboard import SummaryWriter\n",
    "from torchvision import datasets, transforms\n",
    "from torch.optim.lr_scheduler import StepLR"
   ]
  },
  {
   "cell_type": "markdown",
   "metadata": {},
   "source": [
    "The torch.nn.functional module contains all the functions of the torch.nn package.\n",
    "These functions include loss functions, activation functions, pooling functions…"
   ]
  },
  {
   "cell_type": "markdown",
   "metadata": {},
   "source": [
    "## Create a SummaryWriter instance for TensorBoard\n"
   ]
  },
  {
   "cell_type": "code",
   "execution_count": 42,
   "metadata": {},
   "outputs": [],
   "source": [
    "writer = SummaryWriter()"
   ]
  },
  {
   "cell_type": "markdown",
   "metadata": {},
   "source": [
    "## Define the architecture of the network"
   ]
  },
  {
   "cell_type": "code",
   "execution_count": 43,
   "metadata": {},
   "outputs": [],
   "source": [
    "# To build a model, create a subclass of torch.nn.Module:\n",
    "class Net(nn.Module):\n",
    "\tdef __init__(self):\n",
    "\t\tsuper(Net, self).__init__()\n",
    "\t\tself.fc1 = nn.Linear(784, 128)\n",
    "\t\tself.fc2 = nn.Linear(128, 10)\n",
    "\n",
    "    # Method for the forward pass:\n",
    "\tdef forward(self, x):\n",
    "\t\tx = torch.flatten(x, 1)\n",
    "\t\tx = self.fc1(x)\n",
    "\t\tx = F.relu(x)\n",
    "\t\tx = self.fc2(x)\n",
    "\t\toutput = F.log_softmax(x, dim=1)\n",
    "\t\treturn output"
   ]
  },
  {
   "cell_type": "markdown",
   "metadata": {},
   "source": [
    "Python’s class inheritance gives our subclass all the functionality of torch.nn.Module while allowing us to customize it.\n",
    "\n",
    "## Define a training function"
   ]
  },
  {
   "cell_type": "code",
   "execution_count": 44,
   "metadata": {},
   "outputs": [],
   "source": [
    "def train(model, device, train_loader, optimizer, epoch):\n",
    "    model.train()\n",
    "    for batch_idx, (data, target) in enumerate(train_loader):\n",
    "        data, target = data.to(device), target.to(device)\n",
    "        optimizer.zero_grad()  # reset the gradients to 0\n",
    "        output = model(data)\n",
    "        loss = F.nll_loss(output, target)  # negative log likelihood\n",
    "        writer.add_scalar(\"Loss/train\", loss, epoch)\n",
    "        loss.backward()\n",
    "        optimizer.step()\n",
    "        if batch_idx % 10 == 0:\n",
    "            print('Train Epoch: {} [{}/{} ({:.0f}%)]\\tLoss: {:.6f}'.format(\n",
    "                epoch, batch_idx * len(data), len(train_loader.dataset),\n",
    "                100. * batch_idx / len(train_loader), loss.item()))"
   ]
  },
  {
   "cell_type": "markdown",
   "metadata": {},
   "source": [
    "## Define a testing function"
   ]
  },
  {
   "cell_type": "code",
   "execution_count": 45,
   "metadata": {},
   "outputs": [],
   "source": [
    "def test(model, device, test_loader):\n",
    "    model.eval()\n",
    "    test_loss = 0\n",
    "    correct = 0\n",
    "    with torch.no_grad():\n",
    "        for data, target in test_loader:\n",
    "            data, target = data.to(device), target.to(device)\n",
    "            output = model(data)\n",
    "            # Sum up batch loss:\n",
    "            test_loss += F.nll_loss(output, target, reduction='sum').item()\n",
    "            # Get the index of the max log-probability:\n",
    "            pred = output.argmax(dim=1, keepdim=True)\n",
    "            correct += pred.eq(target.view_as(pred)).sum().item()\n",
    "\n",
    "    test_loss /= len(test_loader.dataset)\n",
    "\n",
    "    # Print a summary\n",
    "    print('\\nTest set: Average loss: {:.4f}, Accuracy: {}/{} ({:.0f}%)\\n'.format(\n",
    "        test_loss, correct, len(test_loader.dataset),\n",
    "        100. * correct / len(test_loader.dataset)))"
   ]
  },
  {
   "cell_type": "markdown",
   "metadata": {},
   "source": [
    "## Define a function main() which runs our network\n"
   ]
  },
  {
   "cell_type": "code",
   "execution_count": 46,
   "metadata": {},
   "outputs": [],
   "source": [
    "def main():\n",
    "    epochs = 1\n",
    "    torch.manual_seed(1)\n",
    "    device = torch.device('cuda:0' if torch.cuda.is_available() else 'cpu')\n",
    "\n",
    "    transform = transforms.Compose([\n",
    "        transforms.ToTensor(),\n",
    "        transforms.Normalize((0.1307,), (0.3081,))\n",
    "    ])\n",
    "\n",
    "    train_loader = torch.utils.data.DataLoader(train_data, batch_size=64)\n",
    "    test_loader = torch.utils.data.DataLoader(test_data, batch_size=1000)\n",
    "    model = Net().to(device)  # create instance of our network and send it to device\n",
    "    optimizer = optim.Adadelta(model.parameters(), lr=1.0)\n",
    "    scheduler = StepLR(optimizer, step_size=1, gamma=0.7)\n",
    "\n",
    "    for epoch in range(1, epochs + 1):\n",
    "        train(model, device, train_loader, optimizer, epoch)\n",
    "        test(model, device, test_loader)\n",
    "        scheduler.step()"
   ]
  },
  {
   "cell_type": "markdown",
   "metadata": {},
   "source": [
    "## Run the network\n"
   ]
  },
  {
   "cell_type": "code",
   "execution_count": 47,
   "metadata": {},
   "outputs": [
    {
     "name": "stdout",
     "output_type": "stream",
     "text": [
      "Train Epoch: 1 [0/60000 (0%)]\tLoss: 2.316140\n",
      "Train Epoch: 1 [640/60000 (1%)]\tLoss: 0.872084\n",
      "Train Epoch: 1 [1280/60000 (2%)]\tLoss: 0.474214\n",
      "Train Epoch: 1 [1920/60000 (3%)]\tLoss: 0.456611\n",
      "Train Epoch: 1 [2560/60000 (4%)]\tLoss: 0.334980\n",
      "Train Epoch: 1 [3200/60000 (5%)]\tLoss: 0.333797\n",
      "Train Epoch: 1 [3840/60000 (6%)]\tLoss: 0.189549\n",
      "Train Epoch: 1 [4480/60000 (7%)]\tLoss: 0.301503\n",
      "Train Epoch: 1 [5120/60000 (9%)]\tLoss: 0.596658\n",
      "Train Epoch: 1 [5760/60000 (10%)]\tLoss: 0.207870\n",
      "Train Epoch: 1 [6400/60000 (11%)]\tLoss: 0.240116\n",
      "Train Epoch: 1 [7040/60000 (12%)]\tLoss: 0.405099\n",
      "Train Epoch: 1 [7680/60000 (13%)]\tLoss: 0.297655\n",
      "Train Epoch: 1 [8320/60000 (14%)]\tLoss: 0.148928\n",
      "Train Epoch: 1 [8960/60000 (15%)]\tLoss: 0.224455\n",
      "Train Epoch: 1 [9600/60000 (16%)]\tLoss: 0.124125\n",
      "Train Epoch: 1 [10240/60000 (17%)]\tLoss: 0.222931\n",
      "Train Epoch: 1 [10880/60000 (18%)]\tLoss: 0.155021\n",
      "Train Epoch: 1 [11520/60000 (19%)]\tLoss: 0.457864\n",
      "Train Epoch: 1 [12160/60000 (20%)]\tLoss: 0.249751\n",
      "Train Epoch: 1 [12800/60000 (21%)]\tLoss: 0.194445\n",
      "Train Epoch: 1 [13440/60000 (22%)]\tLoss: 0.126571\n",
      "Train Epoch: 1 [14080/60000 (23%)]\tLoss: 0.213094\n",
      "Train Epoch: 1 [14720/60000 (25%)]\tLoss: 0.393816\n",
      "Train Epoch: 1 [15360/60000 (26%)]\tLoss: 0.189804\n",
      "Train Epoch: 1 [16000/60000 (27%)]\tLoss: 0.440356\n",
      "Train Epoch: 1 [16640/60000 (28%)]\tLoss: 0.196590\n",
      "Train Epoch: 1 [17280/60000 (29%)]\tLoss: 0.119699\n",
      "Train Epoch: 1 [17920/60000 (30%)]\tLoss: 0.123308\n",
      "Train Epoch: 1 [18560/60000 (31%)]\tLoss: 0.220268\n",
      "Train Epoch: 1 [19200/60000 (32%)]\tLoss: 0.226656\n",
      "Train Epoch: 1 [19840/60000 (33%)]\tLoss: 0.182406\n",
      "Train Epoch: 1 [20480/60000 (34%)]\tLoss: 0.089379\n",
      "Train Epoch: 1 [21120/60000 (35%)]\tLoss: 0.204259\n",
      "Train Epoch: 1 [21760/60000 (36%)]\tLoss: 0.027346\n",
      "Train Epoch: 1 [22400/60000 (37%)]\tLoss: 0.094041\n",
      "Train Epoch: 1 [23040/60000 (38%)]\tLoss: 0.157223\n",
      "Train Epoch: 1 [23680/60000 (39%)]\tLoss: 0.282247\n",
      "Train Epoch: 1 [24320/60000 (41%)]\tLoss: 0.059659\n",
      "Train Epoch: 1 [24960/60000 (42%)]\tLoss: 0.100363\n",
      "Train Epoch: 1 [25600/60000 (43%)]\tLoss: 0.108003\n",
      "Train Epoch: 1 [26240/60000 (44%)]\tLoss: 0.190146\n",
      "Train Epoch: 1 [26880/60000 (45%)]\tLoss: 0.321741\n",
      "Train Epoch: 1 [27520/60000 (46%)]\tLoss: 0.172838\n",
      "Train Epoch: 1 [28160/60000 (47%)]\tLoss: 0.075830\n",
      "Train Epoch: 1 [28800/60000 (48%)]\tLoss: 0.131242\n",
      "Train Epoch: 1 [29440/60000 (49%)]\tLoss: 0.147857\n",
      "Train Epoch: 1 [30080/60000 (50%)]\tLoss: 0.188525\n",
      "Train Epoch: 1 [30720/60000 (51%)]\tLoss: 0.166409\n",
      "Train Epoch: 1 [31360/60000 (52%)]\tLoss: 0.236336\n",
      "Train Epoch: 1 [32000/60000 (53%)]\tLoss: 0.284616\n",
      "Train Epoch: 1 [32640/60000 (54%)]\tLoss: 0.281847\n",
      "Train Epoch: 1 [33280/60000 (55%)]\tLoss: 0.249681\n",
      "Train Epoch: 1 [33920/60000 (57%)]\tLoss: 0.041240\n",
      "Train Epoch: 1 [34560/60000 (58%)]\tLoss: 0.156173\n",
      "Train Epoch: 1 [35200/60000 (59%)]\tLoss: 0.199289\n",
      "Train Epoch: 1 [35840/60000 (60%)]\tLoss: 0.086680\n",
      "Train Epoch: 1 [36480/60000 (61%)]\tLoss: 0.095249\n",
      "Train Epoch: 1 [37120/60000 (62%)]\tLoss: 0.179035\n",
      "Train Epoch: 1 [37760/60000 (63%)]\tLoss: 0.158837\n",
      "Train Epoch: 1 [38400/60000 (64%)]\tLoss: 0.098983\n",
      "Train Epoch: 1 [39040/60000 (65%)]\tLoss: 0.022933\n",
      "Train Epoch: 1 [39680/60000 (66%)]\tLoss: 0.096328\n",
      "Train Epoch: 1 [40320/60000 (67%)]\tLoss: 0.121386\n",
      "Train Epoch: 1 [40960/60000 (68%)]\tLoss: 0.229307\n",
      "Train Epoch: 1 [41600/60000 (69%)]\tLoss: 0.118646\n",
      "Train Epoch: 1 [42240/60000 (70%)]\tLoss: 0.034395\n",
      "Train Epoch: 1 [42880/60000 (71%)]\tLoss: 0.215479\n",
      "Train Epoch: 1 [43520/60000 (72%)]\tLoss: 0.188071\n",
      "Train Epoch: 1 [44160/60000 (74%)]\tLoss: 0.064687\n",
      "Train Epoch: 1 [44800/60000 (75%)]\tLoss: 0.206977\n",
      "Train Epoch: 1 [45440/60000 (76%)]\tLoss: 0.194915\n",
      "Train Epoch: 1 [46080/60000 (77%)]\tLoss: 0.347937\n",
      "Train Epoch: 1 [46720/60000 (78%)]\tLoss: 0.217601\n",
      "Train Epoch: 1 [47360/60000 (79%)]\tLoss: 0.129571\n",
      "Train Epoch: 1 [48000/60000 (80%)]\tLoss: 0.076300\n",
      "Train Epoch: 1 [48640/60000 (81%)]\tLoss: 0.080396\n",
      "Train Epoch: 1 [49280/60000 (82%)]\tLoss: 0.075072\n",
      "Train Epoch: 1 [49920/60000 (83%)]\tLoss: 0.058734\n",
      "Train Epoch: 1 [50560/60000 (84%)]\tLoss: 0.197258\n",
      "Train Epoch: 1 [51200/60000 (85%)]\tLoss: 0.130572\n",
      "Train Epoch: 1 [51840/60000 (86%)]\tLoss: 0.103553\n",
      "Train Epoch: 1 [52480/60000 (87%)]\tLoss: 0.021481\n",
      "Train Epoch: 1 [53120/60000 (88%)]\tLoss: 0.148133\n",
      "Train Epoch: 1 [53760/60000 (90%)]\tLoss: 0.091346\n",
      "Train Epoch: 1 [54400/60000 (91%)]\tLoss: 0.091562\n",
      "Train Epoch: 1 [55040/60000 (92%)]\tLoss: 0.053275\n",
      "Train Epoch: 1 [55680/60000 (93%)]\tLoss: 0.146914\n",
      "Train Epoch: 1 [56320/60000 (94%)]\tLoss: 0.076743\n",
      "Train Epoch: 1 [56960/60000 (95%)]\tLoss: 0.109537\n",
      "Train Epoch: 1 [57600/60000 (96%)]\tLoss: 0.196039\n",
      "Train Epoch: 1 [58240/60000 (97%)]\tLoss: 0.028285\n",
      "Train Epoch: 1 [58880/60000 (98%)]\tLoss: 0.010634\n",
      "Train Epoch: 1 [59520/60000 (99%)]\tLoss: 0.009684\n",
      "\n",
      "Test set: Average loss: 0.1231, Accuracy: 9623/10000 (96%)\n",
      "\n"
     ]
    }
   ],
   "source": [
    "main()"
   ]
  },
  {
   "cell_type": "markdown",
   "metadata": {},
   "source": [
    "## Write pending events to disk and close the TensorBoard\n"
   ]
  },
  {
   "cell_type": "code",
   "execution_count": 48,
   "metadata": {},
   "outputs": [],
   "source": [
    "writer.flush()\n",
    "writer.close()"
   ]
  },
  {
   "cell_type": "markdown",
   "metadata": {},
   "source": [
    "The code is working. Time to actually train our model!"
   ]
  },
  {
   "cell_type": "code",
   "execution_count": null,
   "metadata": {},
   "outputs": [],
   "source": []
  }
 ],
 "metadata": {
  "kernelspec": {
   "display_name": "myenv",
   "language": "python",
   "name": "myenv"
  },
  "language_info": {
   "codemirror_mode": {
    "name": "ipython",
    "version": 3
   },
   "file_extension": ".py",
   "mimetype": "text/x-python",
   "name": "python",
   "nbconvert_exporter": "python",
   "pygments_lexer": "ipython3",
   "version": "3.6.12"
  }
 },
 "nbformat": 4,
 "nbformat_minor": 4
}
